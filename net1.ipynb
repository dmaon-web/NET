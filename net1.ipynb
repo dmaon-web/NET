{
  "nbformat": 4,
  "nbformat_minor": 0,
  "metadata": {
    "colab": {
      "name": "net1.ipynb",
      "provenance": []
    },
    "kernelspec": {
      "name": "python3",
      "display_name": "Python 3"
    },
    "accelerator": "GPU"
  },
  "cells": [
    {
      "cell_type": "code",
      "metadata": {
        "id": "KR_yThRUXJ0m",
        "colab_type": "code",
        "outputId": "0f03ba3a-e484-4e27-c70f-3d85d998b5be",
        "colab": {
          "base_uri": "https://localhost:8080/",
          "height": 1000
        }
      },
      "source": [
        "import torch\n",
        "import random\n",
        "import numpy as np\n",
        "\n",
        "random.seed(0)\n",
        "np.random.seed(0)\n",
        "torch.manual_seed(0)\n",
        "torch.cuda.manual_seed(0)\n",
        "torch.backends.cudnn.deterministic = True\n",
        "\n",
        "import torchvision.datasets # cкачивание MNIST\n",
        "MNIST_train = torchvision.datasets.MNIST('./', download=True, train=True)\n",
        "MNIST_test = torchvision.datasets.MNIST('./', download=True, train=False)\n",
        "\n",
        "X_train = MNIST_train.train_data # изображения для тренировки\n",
        "y_train = MNIST_train.train_labels # желаемые результаты после тренировки\n",
        "X_test = MNIST_test.test_data\n",
        "y_test = MNIST_test.test_labels\n",
        "\n",
        "X_train = X_train.float() # переход к дробным величинам\n",
        "X_test = X_test.float()\n",
        "\n",
        "import matplotlib.pyplot as plt\n",
        "\n",
        "X_train = X_train.reshape([-1, 28 * 28]) # переход от двухмерного тензора (28х28) к одномерному (784)\n",
        "X_test = X_test.reshape([-1, 28 * 28])\n",
        "\n",
        "class MNISTNet(torch.nn.Module):\n",
        "    def __init__(self, n_hidden_neurons):\n",
        "        super(MNISTNet, self).__init__()\n",
        "        self.fc1 = torch.nn.Linear(28 * 28, n_hidden_neurons) # внутренний слой\n",
        "        self.ac1 = torch.nn.ReLU() # активация внутреннего слоя\n",
        "        self.fc2 = torch.nn.Linear(n_hidden_neurons, n_hidden_neurons) # второй слой\n",
        "        self.ac2 = torch.nn.ReLU()\n",
        "        self.fc3 = torch.nn.Linear(n_hidden_neurons,10)\n",
        "    \n",
        "    def forward(self, x): # прогонка изображения (тензора) через сеть\n",
        "        x = self.fc1(x)\n",
        "        x = self.ac1(x)\n",
        "        x = self.fc2(x)\n",
        "        x = self.ac2(x)\n",
        "        x = self.fc3(x)\n",
        "        return x\n",
        "    \n",
        "mnist_net = MNISTNet(100) # создание сети со 100 скрытыми нейронами\n",
        "\n",
        "device = torch.device('cuda:0' if torch.cuda.is_available() else 'cpu') # запуск на видеокарте\n",
        "mnist_net = mnist_net.to(device)\n",
        "\n",
        "loss = torch.nn.CrossEntropyLoss() # функция ошибки\n",
        "optimizer = torch.optim.SGD(mnist_net.parameters(), lr=1.0e-3, momentum=0.9) # оптимизатор (градиентный спуск)\n",
        "\n",
        "batch_size = 100\n",
        "\n",
        "test_accuracy_history = [] # запись точности тестов\n",
        "test_loss_history = [] # запись потерей при тестах\n",
        "\n",
        "X_test = X_test.to(device)\n",
        "y_test = y_test.to(device)\n",
        "\n",
        "import time\n",
        "start_time = time.time()\n",
        "\n",
        "for epoch in range(100): # в скобках задается количество эпох\n",
        "    order = np.random.permutation(len(X_train)) # перемешивание индексов изображений\n",
        "    \n",
        "    for start_index in range(0, len(X_train), batch_size):\n",
        "        optimizer.zero_grad() # обнуление градиента\n",
        "        \n",
        "        batch_indexes = order[start_index:start_index+batch_size] # сто индексов\n",
        "        \n",
        "        X_batch = X_train[batch_indexes].to(device) # берется сто изображений\n",
        "        y_batch = y_train[batch_indexes].to(device) # берется сто ответов\n",
        "        \n",
        "        preds = mnist_net.forward(X_batch) # предсказание сети на сто изображений\n",
        "        \n",
        "        loss_value = loss(preds, y_batch) # размер ошибки\n",
        "        loss_value.backward() # считаем градиент\n",
        "        \n",
        "        optimizer.step() # градиентный шаг\n",
        "\n",
        "    test_preds = mnist_net.forward(X_test) # прогонка тестового множества\n",
        "    test_loss_history.append(loss(test_preds, y_test).data.cpu()) # значение функции ошибки добавляется\n",
        "    \n",
        "    accuracy = (test_preds.argmax(dim=1) == y_test).float().mean().data.cpu() # доля правильных ответов\n",
        "    test_accuracy_history.append(accuracy)\n",
        "    print(accuracy)\n",
        "\n",
        "print(\"--- %s seconds ---\" % (time.time() - start_time))"
      ],
      "execution_count": 15,
      "outputs": [
        {
          "output_type": "stream",
          "text": [
            "/usr/local/lib/python3.6/dist-packages/torchvision/datasets/mnist.py:53: UserWarning: train_data has been renamed data\n",
            "  warnings.warn(\"train_data has been renamed data\")\n",
            "/usr/local/lib/python3.6/dist-packages/torchvision/datasets/mnist.py:43: UserWarning: train_labels has been renamed targets\n",
            "  warnings.warn(\"train_labels has been renamed targets\")\n",
            "/usr/local/lib/python3.6/dist-packages/torchvision/datasets/mnist.py:58: UserWarning: test_data has been renamed data\n",
            "  warnings.warn(\"test_data has been renamed data\")\n",
            "/usr/local/lib/python3.6/dist-packages/torchvision/datasets/mnist.py:48: UserWarning: test_labels has been renamed targets\n",
            "  warnings.warn(\"test_labels has been renamed targets\")\n"
          ],
          "name": "stderr"
        },
        {
          "output_type": "stream",
          "text": [
            "tensor(0.9420)\n",
            "tensor(0.9518)\n",
            "tensor(0.9589)\n",
            "tensor(0.9589)\n",
            "tensor(0.9626)\n",
            "tensor(0.9643)\n",
            "tensor(0.9639)\n",
            "tensor(0.9638)\n",
            "tensor(0.9647)\n",
            "tensor(0.9633)\n",
            "tensor(0.9642)\n",
            "tensor(0.9654)\n",
            "tensor(0.9649)\n",
            "tensor(0.9696)\n",
            "tensor(0.9674)\n",
            "tensor(0.9685)\n",
            "tensor(0.9693)\n",
            "tensor(0.9677)\n",
            "tensor(0.9671)\n",
            "tensor(0.9690)\n",
            "tensor(0.9672)\n",
            "tensor(0.9654)\n",
            "tensor(0.9689)\n",
            "tensor(0.9684)\n",
            "tensor(0.9674)\n",
            "tensor(0.9716)\n",
            "tensor(0.9696)\n",
            "tensor(0.9707)\n",
            "tensor(0.9692)\n",
            "tensor(0.9697)\n",
            "tensor(0.9722)\n",
            "tensor(0.9716)\n",
            "tensor(0.9713)\n",
            "tensor(0.9718)\n",
            "tensor(0.9717)\n",
            "tensor(0.9712)\n",
            "tensor(0.9711)\n",
            "tensor(0.9726)\n",
            "tensor(0.9716)\n",
            "tensor(0.9720)\n",
            "tensor(0.9718)\n",
            "tensor(0.9720)\n",
            "tensor(0.9724)\n",
            "tensor(0.9719)\n",
            "tensor(0.9721)\n",
            "tensor(0.9718)\n",
            "tensor(0.9719)\n",
            "tensor(0.9723)\n",
            "tensor(0.9720)\n",
            "tensor(0.9725)\n",
            "tensor(0.9725)\n",
            "tensor(0.9720)\n",
            "tensor(0.9723)\n",
            "tensor(0.9726)\n",
            "tensor(0.9723)\n",
            "tensor(0.9723)\n",
            "tensor(0.9726)\n",
            "tensor(0.9724)\n",
            "tensor(0.9728)\n",
            "tensor(0.9724)\n",
            "tensor(0.9724)\n",
            "tensor(0.9724)\n",
            "tensor(0.9725)\n",
            "tensor(0.9728)\n",
            "tensor(0.9727)\n",
            "tensor(0.9727)\n",
            "tensor(0.9727)\n",
            "tensor(0.9724)\n",
            "tensor(0.9725)\n",
            "tensor(0.9726)\n",
            "tensor(0.9728)\n",
            "tensor(0.9725)\n",
            "tensor(0.9726)\n",
            "tensor(0.9725)\n",
            "tensor(0.9726)\n",
            "tensor(0.9725)\n",
            "tensor(0.9727)\n",
            "tensor(0.9727)\n",
            "tensor(0.9726)\n",
            "tensor(0.9727)\n",
            "tensor(0.9724)\n",
            "tensor(0.9725)\n",
            "tensor(0.9726)\n",
            "tensor(0.9726)\n",
            "tensor(0.9725)\n",
            "tensor(0.9726)\n",
            "tensor(0.9728)\n",
            "tensor(0.9727)\n",
            "tensor(0.9726)\n",
            "tensor(0.9727)\n",
            "tensor(0.9728)\n",
            "tensor(0.9726)\n",
            "tensor(0.9725)\n",
            "tensor(0.9729)\n",
            "tensor(0.9726)\n",
            "tensor(0.9728)\n",
            "tensor(0.9726)\n",
            "tensor(0.9727)\n",
            "tensor(0.9724)\n",
            "tensor(0.9726)\n",
            "--- 78.49418687820435 seconds ---\n"
          ],
          "name": "stdout"
        }
      ]
    },
    {
      "cell_type": "code",
      "metadata": {
        "id": "wYQFBX6epQYa",
        "colab_type": "code",
        "colab": {
          "base_uri": "https://localhost:8080/",
          "height": 34
        },
        "outputId": "a2ca4a43-0789-44e8-885f-2e4a967d2bc0"
      },
      "source": [
        "print(sum(test_accuracy_history)/100)"
      ],
      "execution_count": 16,
      "outputs": [
        {
          "output_type": "stream",
          "text": [
            "tensor(0.9702)\n"
          ],
          "name": "stdout"
        }
      ]
    },
    {
      "cell_type": "code",
      "metadata": {
        "id": "C6011Li4XX1w",
        "colab_type": "code",
        "outputId": "5020beb3-9201-44d6-e3bc-ee3cc72f95ac",
        "colab": {
          "base_uri": "https://localhost:8080/",
          "height": 281
        }
      },
      "source": [
        "plt.plot(test_accuracy_history, label='2 hidden layers, ReLU, SGD')\n",
        "plt.legend()\n",
        "plt.title('Accuracy'); # вывод точности на график"
      ],
      "execution_count": 19,
      "outputs": [
        {
          "output_type": "display_data",
          "data": {
            "image/png": "[encoded data removed]",
            "text/plain": [
              "<Figure size 432x288 with 1 Axes>"
            ]
          },
          "metadata": {
            "tags": []
          }
        }
      ]
    },
    {
      "cell_type": "code",
      "metadata": {
        "id": "tybVMESKXaH2",
        "colab_type": "code",
        "outputId": "c713ebb3-0799-4272-8765-5091d201166e",
        "colab": {
          "base_uri": "https://localhost:8080/",
          "height": 281
        }
      },
      "source": [
        "plt.plot(test_loss_history, label='2 hidden layers, ReLU, SGD')\n",
        "plt.legend()\n",
        "plt.title('Loss'); # вывод потерь на график"
      ],
      "execution_count": 20,
      "outputs": [
        {
          "output_type": "display_data",
          "data": {
            "image/png": "[encoded data removed]",
            "text/plain": [
              "<Figure size 432x288 with 1 Axes>"
            ]
          },
          "metadata": {
            "tags": []
          }
        }
      ]
    },
    {
      "cell_type": "code",
      "metadata": {
        "id": "mz3Wbsx9XgCe",
        "colab_type": "code",
        "colab": {}
      },
      "source": [
        ""
      ],
      "execution_count": 0,
      "outputs": []
    }
  ]
}