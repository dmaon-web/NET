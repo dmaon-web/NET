{
  "nbformat": 4,
  "nbformat_minor": 0,
  "metadata": {
    "colab": {
      "name": "net0.ipynb",
      "provenance": []
    },
    "kernelspec": {
      "name": "python3",
      "display_name": "Python 3"
    },
    "accelerator": "GPU"
  },
  "cells": [
    {
      "cell_type": "code",
      "metadata": {
        "id": "viui6Swu1_tA",
        "colab_type": "code",
        "outputId": "a1b8b5b7-d309-4999-86b0-90ea1e68f468",
        "colab": {
          "base_uri": "https://localhost:8080/",
          "height": 1000
        }
      },
      "source": [
        "import torch\n",
        "import random\n",
        "import numpy as np\n",
        "\n",
        "random.seed(0)\n",
        "np.random.seed(0)\n",
        "torch.manual_seed(0)\n",
        "torch.cuda.manual_seed(0)\n",
        "torch.backends.cudnn.deterministic = True\n",
        "\n",
        "import torchvision.datasets # cкачивание MNIST\n",
        "MNIST_train = torchvision.datasets.MNIST('./', download=True, train=True)\n",
        "MNIST_test = torchvision.datasets.MNIST('./', download=True, train=False)\n",
        "\n",
        "X_train = MNIST_train.train_data # изображения для тренировки\n",
        "y_train = MNIST_train.train_labels # желаемые результаты после тренировки\n",
        "X_test = MNIST_test.test_data\n",
        "y_test = MNIST_test.test_labels\n",
        "\n",
        "X_train = X_train.float() # переход к дробным величинам\n",
        "X_test = X_test.float()\n",
        "\n",
        "import matplotlib.pyplot as plt\n",
        "\n",
        "X_train = X_train.reshape([-1, 28 * 28]) # переход от трехмерного тензора (10000х28х28) к двухмерному (10000х784)\n",
        "X_test = X_test.reshape([-1, 28 * 28])\n",
        "\n",
        "class MNISTNet(torch.nn.Module):\n",
        "    def __init__(self, n_hidden_neurons):\n",
        "        super(MNISTNet, self).__init__()\n",
        "        self.fc1 = torch.nn.Linear(28 * 28, n_hidden_neurons) # внутренний слой\n",
        "        self.ac1 = torch.nn.Sigmoid() # активация внутреннего слоя\n",
        "        self.fc2 = torch.nn.Linear(n_hidden_neurons, 10) # второй слой (выходной)\n",
        "    \n",
        "    def forward(self, x): # прогонка изображения (тензора) через сеть\n",
        "        x = self.fc1(x)\n",
        "        x = self.ac1(x)\n",
        "        x = self.fc2(x)\n",
        "        return x\n",
        "    \n",
        "mnist_net = MNISTNet(100) # создание сети со 100 скрытыми нейронами\n",
        "\n",
        "device = torch.device('cuda:0' if torch.cuda.is_available() else 'cpu') # запуск на видеокарте\n",
        "mnist_net = mnist_net.to(device)\n",
        "\n",
        "loss = torch.nn.CrossEntropyLoss() # функция ошибки\n",
        "optimizer = torch.optim.Adam(mnist_net.parameters(), lr=1.0e-3) # оптимизатор (градиентный спуск)\n",
        "\n",
        "batch_size = 100\n",
        "\n",
        "test_accuracy_history = [] # запись точности тестов\n",
        "test_loss_history = [] # запись потерей при тестах\n",
        "\n",
        "X_test = X_test.to(device)\n",
        "y_test = y_test.to(device)\n",
        "\n",
        "import time\n",
        "start_time = time.time()\n",
        "\n",
        "for epoch in range(100): # в скобках задается количество эпох\n",
        "    order = np.random.permutation(len(X_train)) # перемешивание индексов изображений\n",
        "    \n",
        "    for start_index in range(0, len(X_train), batch_size):\n",
        "        optimizer.zero_grad() # обнуление градиента\n",
        "        \n",
        "        batch_indexes = order[start_index:start_index+batch_size] # сто индексов\n",
        "        \n",
        "        X_batch = X_train[batch_indexes].to(device) # берется сто изображений\n",
        "        y_batch = y_train[batch_indexes].to(device) # берется сто ответов\n",
        "        \n",
        "        preds = mnist_net.forward(X_batch) # предсказание сети на сто изображений\n",
        "        \n",
        "        loss_value = loss(preds, y_batch) # размер ошибки\n",
        "        loss_value.backward() # считаем градиент\n",
        "        \n",
        "        optimizer.step() # градиентный шаг\n",
        "\n",
        "    test_preds = mnist_net.forward(X_test) # прогонка тестового множества\n",
        "    test_loss_history.append(loss(test_preds, y_test).data.cpu()) # значение функции ошибки добавляется\n",
        "    \n",
        "    accuracy = (test_preds.argmax(dim=1) == y_test).float().mean().data.cpu() # доля правильных ответов\n",
        "    test_accuracy_history.append(accuracy)\n",
        "    print(accuracy)\n",
        "\n",
        "print(\"--- %s seconds ---\" % (time.time() - start_time))\n"
      ],
      "execution_count": 16,
      "outputs": [
        {
          "output_type": "stream",
          "text": [
            "/usr/local/lib/python3.6/dist-packages/torchvision/datasets/mnist.py:53: UserWarning: train_data has been renamed data\n",
            "  warnings.warn(\"train_data has been renamed data\")\n",
            "/usr/local/lib/python3.6/dist-packages/torchvision/datasets/mnist.py:43: UserWarning: train_labels has been renamed targets\n",
            "  warnings.warn(\"train_labels has been renamed targets\")\n",
            "/usr/local/lib/python3.6/dist-packages/torchvision/datasets/mnist.py:58: UserWarning: test_data has been renamed data\n",
            "  warnings.warn(\"test_data has been renamed data\")\n",
            "/usr/local/lib/python3.6/dist-packages/torchvision/datasets/mnist.py:48: UserWarning: test_labels has been renamed targets\n",
            "  warnings.warn(\"test_labels has been renamed targets\")\n"
          ],
          "name": "stderr"
        },
        {
          "output_type": "stream",
          "text": [
            "tensor(0.9081)\n",
            "tensor(0.9156)\n",
            "tensor(0.9155)\n",
            "tensor(0.9248)\n",
            "tensor(0.9199)\n",
            "tensor(0.9270)\n",
            "tensor(0.9300)\n",
            "tensor(0.9276)\n",
            "tensor(0.9283)\n",
            "tensor(0.9259)\n",
            "tensor(0.9300)\n",
            "tensor(0.9293)\n",
            "tensor(0.9354)\n",
            "tensor(0.9316)\n",
            "tensor(0.9359)\n",
            "tensor(0.9344)\n",
            "tensor(0.9343)\n",
            "tensor(0.9381)\n",
            "tensor(0.9401)\n",
            "tensor(0.9362)\n",
            "tensor(0.9398)\n",
            "tensor(0.9367)\n",
            "tensor(0.9445)\n",
            "tensor(0.9448)\n",
            "tensor(0.9395)\n",
            "tensor(0.9384)\n",
            "tensor(0.9417)\n",
            "tensor(0.9444)\n",
            "tensor(0.9438)\n",
            "tensor(0.9435)\n",
            "tensor(0.9446)\n",
            "tensor(0.9436)\n",
            "tensor(0.9353)\n",
            "tensor(0.9419)\n",
            "tensor(0.9438)\n",
            "tensor(0.9428)\n",
            "tensor(0.9454)\n",
            "tensor(0.9401)\n",
            "tensor(0.9417)\n",
            "tensor(0.9428)\n",
            "tensor(0.9440)\n",
            "tensor(0.9462)\n",
            "tensor(0.9476)\n",
            "tensor(0.9434)\n",
            "tensor(0.9463)\n",
            "tensor(0.9426)\n",
            "tensor(0.9529)\n",
            "tensor(0.9514)\n",
            "tensor(0.9504)\n",
            "tensor(0.9458)\n",
            "tensor(0.9481)\n",
            "tensor(0.9471)\n",
            "tensor(0.9512)\n",
            "tensor(0.9431)\n",
            "tensor(0.9549)\n",
            "tensor(0.9493)\n",
            "tensor(0.9463)\n",
            "tensor(0.9397)\n",
            "tensor(0.9464)\n",
            "tensor(0.9499)\n",
            "tensor(0.9479)\n",
            "tensor(0.9517)\n",
            "tensor(0.9504)\n",
            "tensor(0.9491)\n",
            "tensor(0.9495)\n",
            "tensor(0.9501)\n",
            "tensor(0.9496)\n",
            "tensor(0.9505)\n",
            "tensor(0.9499)\n",
            "tensor(0.9496)\n",
            "tensor(0.9524)\n",
            "tensor(0.9508)\n",
            "tensor(0.9519)\n",
            "tensor(0.9507)\n",
            "tensor(0.9489)\n",
            "tensor(0.9524)\n",
            "tensor(0.9492)\n",
            "tensor(0.9484)\n",
            "tensor(0.9493)\n",
            "tensor(0.9538)\n",
            "tensor(0.9541)\n",
            "tensor(0.9535)\n",
            "tensor(0.9527)\n",
            "tensor(0.9485)\n",
            "tensor(0.9534)\n",
            "tensor(0.9521)\n",
            "tensor(0.9509)\n",
            "tensor(0.9533)\n",
            "tensor(0.9537)\n",
            "tensor(0.9543)\n",
            "tensor(0.9547)\n",
            "tensor(0.9556)\n",
            "tensor(0.9494)\n",
            "tensor(0.9551)\n",
            "tensor(0.9561)\n",
            "tensor(0.9569)\n",
            "tensor(0.9537)\n",
            "tensor(0.9586)\n",
            "tensor(0.9529)\n",
            "tensor(0.9526)\n",
            "--- 88.90446972846985 seconds ---\n"
          ],
          "name": "stdout"
        }
      ]
    },
    {
      "cell_type": "code",
      "metadata": {
        "id": "I2j5AGpBlSqc",
        "colab_type": "code",
        "colab": {
          "base_uri": "https://localhost:8080/",
          "height": 34
        },
        "outputId": "84b9b110-a2f3-477f-91b6-2d9a100bc34b"
      },
      "source": [
        "print(sum(test_accuracy_history)/100)"
      ],
      "execution_count": 18,
      "outputs": [
        {
          "output_type": "stream",
          "text": [
            "tensor(0.9443)\n"
          ],
          "name": "stdout"
        }
      ]
    },
    {
      "cell_type": "code",
      "metadata": {
        "id": "j_bOAb04VKCM",
        "colab_type": "code",
        "outputId": "251ccbd0-2ec3-42f4-da72-09e1e5ca7600",
        "colab": {
          "base_uri": "https://localhost:8080/",
          "height": 281
        }
      },
      "source": [
        "plt.plot(test_accuracy_history, label='1 hidden layer, Sigmoid, Adam')\n",
        "plt.legend()\n",
        "plt.title('Accuracy'); # вывод точности на график"
      ],
      "execution_count": 19,
      "outputs": [
        {
          "output_type": "display_data",
          "data": {
            "image/png": "[encoded data removed]",
            "text/plain": [
              "<Figure size 432x288 with 1 Axes>"
            ]
          },
          "metadata": {
            "tags": []
          }
        }
      ]
    },
    {
      "cell_type": "code",
      "metadata": {
        "id": "O9Pv9EEe2TyN",
        "colab_type": "code",
        "outputId": "daed748f-25f8-45fc-ad62-a43a72ed5c08",
        "colab": {
          "base_uri": "https://localhost:8080/",
          "height": 281
        }
      },
      "source": [
        "plt.plot(test_loss_history, label='1 hidden layer, Sigmoid, Adam')\n",
        "plt.legend()\n",
        "plt.title('Loss'); # вывод потерь на график"
      ],
      "execution_count": 20,
      "outputs": [
        {
          "output_type": "display_data",
          "data": {
            "image/png": "[encoded data removed]",
            "text/plain": [
              "<Figure size 432x288 with 1 Axes>"
            ]
          },
          "metadata": {
            "tags": []
          }
        }
      ]
    }
  ]
}